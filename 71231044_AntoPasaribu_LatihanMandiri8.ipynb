{
 "cells": [
  {
   "cell_type": "code",
   "execution_count": 1,
   "id": "d668763e",
   "metadata": {},
   "outputs": [
    {
     "name": "stdout",
     "output_type": "stream",
     "text": [
      "Masukan kata pertama: mata\n",
      "Masukan kata kedua: atma\n",
      "\"mata\" adalah anagram dari \"atma\".\n"
     ]
    }
   ],
   "source": [
    "def anagram(word1, word2):\n",
    "    sorted_word1 = sorted(word1.lower())\n",
    "    sorted_word2 = sorted(word2.lower())\n",
    "    \n",
    "    return sorted_word1 == sorted_word2\n",
    "\n",
    "kata1 = input(\"Masukan kata pertama: \")\n",
    "kata2 = input(\"Masukan kata kedua: \")\n",
    "\n",
    "if anagram(kata1, kata2):\n",
    "    print(f'\"{kata1}\" adalah anagram dari \"{kata2}\".')\n",
    "else:\n",
    "    print(f'\"{kata1}\" bukan anagram dari \"{kata2}\".')"
   ]
  },
  {
   "cell_type": "code",
   "execution_count": 2,
   "id": "ed423f0d",
   "metadata": {},
   "outputs": [
    {
     "name": "stdout",
     "output_type": "stream",
     "text": [
      "Masukan kalimat: Saya mau makan. Makan itu wajib. Mau siang atau malam saya wajib makan.\n",
      "Masukan kata yang ingin dicari: makan\n",
      "\"makan\" muncul sebanyak 3 kali.\n"
     ]
    }
   ],
   "source": [
    "def hitung_frekuensi(kalimat, kata):\n",
    "    kalimat = kalimat.lower().replace('.', '').replace(',', '').replace('!', '').replace('?', '')\n",
    "    kata = kata.lower()\n",
    "    \n",
    "    daftar_kata = kalimat.split()\n",
    "    frekuensi = daftar_kata.count(kata)\n",
    "    return frekuensi\n",
    "\n",
    "kalimat = input(\"Masukan kalimat: \")\n",
    "kata = input(\"Masukan kata yang ingin dicari: \")\n",
    "\n",
    "jumlah = hitung_frekuensi(kalimat, kata)\n",
    "print(f'\"{kata}\" muncul sebanyak {jumlah} kali.')"
   ]
  },
  {
   "cell_type": "code",
   "execution_count": 3,
   "id": "4c322272",
   "metadata": {},
   "outputs": [
    {
     "name": "stdout",
     "output_type": "stream",
     "text": [
      "Masukan kalimat: saya    tidak    suka    memancing    ikan\n",
      "Hasil: \"saya tidak suka memancing ikan\"\n"
     ]
    }
   ],
   "source": [
    "def hapus_spasi_berlebih(kalimat):\n",
    "    kata_kata = kalimat.split()\n",
    "    kalimat_bersih = \" \".join(kata_kata)\n",
    "    return kalimat_bersih\n",
    "\n",
    "kalimat = input(\"Masukan kalimat: \")\n",
    "hasil = hapus_spasi_berlebih(kalimat)\n",
    "print(f'Hasil: \"{hasil}\"')"
   ]
  },
  {
   "cell_type": "code",
   "execution_count": 4,
   "id": "ccb4a436",
   "metadata": {},
   "outputs": [
    {
     "name": "stdout",
     "output_type": "stream",
     "text": [
      "Masukan kalimat: red snakes and a black frog in the pool\n",
      "Kata terpendek: \"a\", Kata terpanjang: \"snakes\"\n"
     ]
    }
   ],
   "source": [
    "def kata_terpendek_terpanjang(kalimat):\n",
    "    daftar_kata = kalimat.split()\n",
    "    \n",
    "    kata_terpendek = min(daftar_kata, key=len)\n",
    "    kata_terpanjang = max(daftar_kata, key=len)\n",
    "    \n",
    "    return kata_terpendek, kata_terpanjang\n",
    "\n",
    "kalimat = input(\"Masukan kalimat: \")\n",
    "terpendek, terpanjang = kata_terpendek_terpanjang(kalimat)\n",
    "\n",
    "print(f'Kata terpendek: \"{terpendek}\", Kata terpanjang: \"{terpanjang}\"')"
   ]
  },
  {
   "cell_type": "code",
   "execution_count": 5,
   "id": "bcfb7fc1",
   "metadata": {},
   "outputs": [
    {
     "name": "stdout",
     "output_type": "stream",
     "text": [
      "1945-08-17 00:00:00 selisih 29108 hari\n",
      "1785-11-11 00:00:00 selisih 87460 hari\n",
      "1783-06-08 00:00:00 selisih 88347 hari\n",
      "1889-05-02 00:00:00 selisih 49668 hari\n"
     ]
    }
   ],
   "source": [
    "import re\n",
    "from datetime import datetime\n",
    "\n",
    "def cari_dan_hitung_selisih(kalimat):\n",
    "    pola_tanggal = r\"\\d{4}-\\d{2}-\\d{2}\"\n",
    "    daftar_tanggal = re.findall(pola_tanggal, kalimat)\n",
    "    \n",
    "    hasil = []\n",
    "    for tgl in daftar_tanggal:\n",
    "        tanggal_asli = datetime.strptime(tgl, \"%Y-%m-%d\")\n",
    "        selisih_hari = (datetime.now() - tanggal_asli).days\n",
    "        tanggal_baru = tanggal_asli.strftime(\"%d-%m-%Y\")\n",
    "        hasil.append(f\"{tgl} 00:00:00 selisih {selisih_hari} hari\")\n",
    "    \n",
    "    return hasil\n",
    "\n",
    "teks = \"\"\"\n",
    "Pada tanggal 1945-08-17 Indonesia merdeka. Indonesia memiliki beberapa pahlawan\n",
    "nasional, seperti Pangeran Diponegoro (TL: 1785-11-11), Pattimura (TL: 1783-06-08) dan Ki\n",
    "Hajar Dewantara (1889-05-02).\n",
    "\"\"\"\n",
    "\n",
    "output = cari_dan_hitung_selisih(teks)\n",
    "for baris in output:\n",
    "    print(baris)"
   ]
  },
  {
   "cell_type": "code",
   "execution_count": 6,
   "id": "38b508af",
   "metadata": {},
   "outputs": [
    {
     "name": "stdout",
     "output_type": "stream",
     "text": [
      "anton@mail.com username: anton , password: GcRO7Ive\n",
      "budi@gmail.co.id username: budi , password: x5okgzJj\n",
      "slamet@getnada.com username: slamet , password: rI29w7Xc\n",
      "matahari@tokopedia.com username: matahari , password: NCXyeymM\n"
     ]
    }
   ],
   "source": [
    "import re\n",
    "import random\n",
    "import string\n",
    "\n",
    "def generate_password():\n",
    "    characters = string.ascii_letters + string.digits\n",
    "    password = ''.join(random.choice(characters) for _ in range(8))\n",
    "    return password\n",
    "\n",
    "def extract_email_dan_generate_password(teks):\n",
    "    email_pattern = r\"[a-zA-Z0-9._%+-]+@[a-zA-Z0-9.-]+\\.[a-zA-Z]{2,}\"\n",
    "    emails = re.findall(email_pattern, teks)\n",
    "    \n",
    "    hasil = []\n",
    "    for email in emails:\n",
    "        username = email.split('@')[0]\n",
    "        password = generate_password()\n",
    "        hasil.append(f\"{email} username: {username} , password: {password}\")\n",
    "    \n",
    "    return hasil\n",
    "\n",
    "teks = \"\"\"\n",
    "Berikut adalah daftar email dan nama pengguna dari mailing list:\n",
    "anton@mail.com dimiliki oleh antonius\n",
    "budi@gmail.co.id dimiliki oleh budi anwari\n",
    "slamet@getnada.com dimiliki oleh slamet slumut\n",
    "matahari@tokopedia.com dimiliki oleh toko matahari\n",
    "\"\"\"\n",
    "\n",
    "output = extract_email_dan_generate_password(teks)\n",
    "for baris in output:\n",
    "    print(baris)"
   ]
  },
  {
   "cell_type": "code",
   "execution_count": null,
   "id": "47ae7f7b",
   "metadata": {},
   "outputs": [],
   "source": []
  },
  {
   "cell_type": "code",
   "execution_count": null,
   "id": "0f70a661",
   "metadata": {},
   "outputs": [],
   "source": []
  },
  {
   "cell_type": "code",
   "execution_count": null,
   "id": "0313a8f8",
   "metadata": {},
   "outputs": [],
   "source": []
  },
  {
   "cell_type": "code",
   "execution_count": null,
   "id": "25e179b0",
   "metadata": {},
   "outputs": [],
   "source": []
  },
  {
   "cell_type": "code",
   "execution_count": null,
   "id": "0023ff0f",
   "metadata": {},
   "outputs": [],
   "source": []
  },
  {
   "cell_type": "code",
   "execution_count": null,
   "id": "3262c835",
   "metadata": {},
   "outputs": [],
   "source": []
  }
 ],
 "metadata": {
  "kernelspec": {
   "display_name": "Python 3 (ipykernel)",
   "language": "python",
   "name": "python3"
  },
  "language_info": {
   "codemirror_mode": {
    "name": "ipython",
    "version": 3
   },
   "file_extension": ".py",
   "mimetype": "text/x-python",
   "name": "python",
   "nbconvert_exporter": "python",
   "pygments_lexer": "ipython3",
   "version": "3.11.5"
  }
 },
 "nbformat": 4,
 "nbformat_minor": 5
}
